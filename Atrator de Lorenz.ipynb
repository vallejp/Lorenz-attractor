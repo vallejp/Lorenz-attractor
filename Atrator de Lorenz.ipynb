{
 "cells": [
  {
   "cell_type": "code",
   "execution_count": 1,
   "metadata": {
    "scrolled": true
   },
   "outputs": [
    {
     "name": "stdout",
     "output_type": "stream",
     "text": [
      "Using matplotlib backend: Qt5Agg\n"
     ]
    }
   ],
   "source": [
    "%matplotlib\n",
    "import matplotlib as mpl\n",
    "from mpl_toolkits.mplot3d import Axes3D\n",
    "import matplotlib.pyplot as plt\n",
    "import numpy as np"
   ]
  },
  {
   "cell_type": "code",
   "execution_count": 3,
   "metadata": {},
   "outputs": [
    {
     "name": "stderr",
     "output_type": "stream",
     "text": [
      "No handles with labels found to put in legend.\n"
     ]
    }
   ],
   "source": [
    "x, y, z = [1], [2], [3]\n",
    "\n",
    "σ, r, b = 10, 28, 8/3\n",
    "\n",
    "tempo = 0000\n",
    "\n",
    "dt = 0.01\n",
    "\n",
    "for i in range(tempo):\n",
    "    x.append((-σ*x[-1] + σ*y[-1])*dt + x[-1])\n",
    "    y.append((r*x[-1] - y[-1] -x[-1]*z[-1])*dt + y[-1])\n",
    "    z.append((x[-1]*y[-1] - b*z[-1])*dt + z[-1])\n",
    "    \n",
    "#mpl.rcParams['legend.fontsize'] = 10\n",
    "fig = plt.figure(figsize=[15, 5])\n",
    "\n",
    "fig = plt.figure()\n",
    "ax = fig.gca(projection='3d')\n",
    "ax.plot(x, y, z, linewidth=0.3)\n",
    "ax.legend()\n",
    "\n",
    "plt.show()    \n"
   ]
  },
  {
   "cell_type": "code",
   "execution_count": null,
   "metadata": {},
   "outputs": [],
   "source": []
  }
 ],
 "metadata": {
  "kernelspec": {
   "display_name": "Python 3",
   "language": "python",
   "name": "python3"
  },
  "language_info": {
   "codemirror_mode": {
    "name": "ipython",
    "version": 3
   },
   "file_extension": ".py",
   "mimetype": "text/x-python",
   "name": "python",
   "nbconvert_exporter": "python",
   "pygments_lexer": "ipython3",
   "version": "3.7.3"
  }
 },
 "nbformat": 4,
 "nbformat_minor": 2
}
